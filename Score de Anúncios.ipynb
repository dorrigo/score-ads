{
 "cells": [
  {
   "cell_type": "code",
   "execution_count": 71,
   "id": "4bc7d49c",
   "metadata": {},
   "outputs": [],
   "source": [
    "import pandas as pd"
   ]
  },
  {
   "cell_type": "code",
   "execution_count": null,
   "id": "dc0826a8",
   "metadata": {},
   "outputs": [],
   "source": [
    "df = pd.read_csv(r\"CAMINHO DO ARQUIVO.csv\")\n",
    "print(df.head())"
   ]
  },
  {
   "cell_type": "code",
   "execution_count": null,
   "id": "44d2d5d0",
   "metadata": {},
   "outputs": [],
   "source": [
    "print(df.head())"
   ]
  },
  {
   "cell_type": "code",
   "execution_count": 75,
   "id": "3e22334b",
   "metadata": {},
   "outputs": [],
   "source": [
    "df = df.drop(columns=[\"Início dos relatórios\", \"Término dos relatórios\", \"Indicador de resultados\"], errors=\"ignore\")"
   ]
  },
  {
   "cell_type": "code",
   "execution_count": null,
   "id": "8abd1260",
   "metadata": {},
   "outputs": [],
   "source": [
    "df.describe()"
   ]
  },
  {
   "cell_type": "code",
   "execution_count": null,
   "id": "679a5840",
   "metadata": {},
   "outputs": [],
   "source": [
    "mean_ctr = df['CTR (taxa de cliques no link)'].mean()\n",
    "mean_cpm = df['CPM (custo por 1.000 impressões) (BRL)'].mean()\n",
    "mean_repro_3s = df['Reproduções do vídeo por no mínimo 3 segundos'].mean()\n",
    "mean_retencao_75 = df['Reproduções de 75% do vídeo'].mean()\n",
    "mean_custo_resultado = df['Custo por resultados'].mean()"
   ]
  },
  {
   "cell_type": "code",
   "execution_count": 78,
   "id": "f8ac9a9d",
   "metadata": {},
   "outputs": [],
   "source": [
    "df_copy = df.copy()"
   ]
  },
  {
   "cell_type": "code",
   "execution_count": null,
   "id": "b68aba52",
   "metadata": {},
   "outputs": [],
   "source": [
    "metricas = [\n",
    "    ('CTR (taxa de cliques no link)', mean_ctr),\n",
    "    ('CPM (custo por 1.000 impressões) (BRL)', mean_cpm),\n",
    "    ('Custo por resultados', mean_custo_resultado),\n",
    "    ('Reproduções do vídeo por no mínimo 3 segundos', mean_repro_3s),\n",
    "    ('Reproduções de 75% do vídeo', mean_retencao_75)\n",
    "]\n",
    "\n",
    "def conta_metricas_abaixo_media(row):\n",
    "        count = 0\n",
    "        for col, media in metricas:\n",
    "            if col in [\"CPM (custo por 1.000 impressões) (BRL)\", \"Custo por resultados\"]:\n",
    "                if col in row and pd.notnull(row[col]) and row[col] > media:\n",
    "                    count += 1\n",
    "            else:\n",
    "                if col in row and pd.notnull(row[col]) and row[col] < media:\n",
    "                    count += 1\n",
    "        return count\n",
    "\n",
    "df_copy['metricas_abaixo_media'] = df_copy.apply(conta_metricas_abaixo_media, axis=1)\n",
    "print(df_copy)"
   ]
  },
  {
   "cell_type": "code",
   "execution_count": null,
   "id": "5dfec545",
   "metadata": {},
   "outputs": [],
   "source": [
    "df_copy.to_csv(r\"ARQUIVO DE SAIDA.csv\", index=False)"
   ]
  }
 ],
 "metadata": {
  "kernelspec": {
   "display_name": "Python 3",
   "language": "python",
   "name": "python3"
  },
  "language_info": {
   "codemirror_mode": {
    "name": "ipython",
    "version": 3
   },
   "file_extension": ".py",
   "mimetype": "text/x-python",
   "name": "python",
   "nbconvert_exporter": "python",
   "pygments_lexer": "ipython3",
   "version": "3.13.7"
  }
 },
 "nbformat": 4,
 "nbformat_minor": 5
}
