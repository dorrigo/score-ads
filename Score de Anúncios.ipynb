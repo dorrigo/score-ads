{
 "cells": [
  {
   "cell_type": "code",
   "execution_count": 28,
   "id": "4bc7d49c",
   "metadata": {},
   "outputs": [],
   "source": [
    "import pandas as pd"
   ]
  },
  {
   "cell_type": "code",
   "execution_count": null,
   "id": "dc0826a8",
   "metadata": {},
   "outputs": [
    {
     "name": "stdout",
     "output_type": "stream",
     "text": [
      "  Início dos relatórios Término dos relatórios Nome da Campanha  \\\n",
      "0            2024-06-02             2024-06-04      Campanha_14   \n",
      "1            2024-05-27             2024-06-02       Campanha_7   \n",
      "2            2024-05-04             2024-05-14      Campanha_18   \n",
      "3            2024-02-10             2024-02-12      Campanha_12   \n",
      "4            2024-02-21             2024-02-29      Campanha_16   \n",
      "\n",
      "  Nome do Criativo Indicador de resultados  CTR (taxa de cliques no link)  \\\n",
      "0      Criativo_20                 Alcance                          11.72   \n",
      "1      Criativo_38            Engajamentos                           7.48   \n",
      "2      Criativo_18  Visualizações de vídeo                          10.58   \n",
      "3      Criativo_25              Conversões                          11.90   \n",
      "4      Criativo_37              Conversões                          14.71   \n",
      "\n",
      "   CPM (custo por 1.000 impressões) (BRL)  \\\n",
      "0                                   55.51   \n",
      "1                                   25.44   \n",
      "2                                    9.12   \n",
      "3                                   53.08   \n",
      "4                                   25.69   \n",
      "\n",
      "   Reproduções do vídeo por no mínimo 3 segundos  Reproduções de 75% do vídeo  \\\n",
      "0                                          35834                        20000   \n",
      "1                                          18388                        17369   \n",
      "2                                          24627                        10777   \n",
      "3                                          33231                        37891   \n",
      "4                                          40045                         3507   \n",
      "\n",
      "   Custo por resultados  \n",
      "0                 16.31  \n",
      "1                 15.61  \n",
      "2                  1.05  \n",
      "3                  8.59  \n",
      "4                 11.11  \n"
     ]
    }
   ],
   "source": [
    "df = pd.read_csv(r\"ARQUIVO DE ENTRADA.csv\")\n",
    "print(df.head())"
   ]
  },
  {
   "cell_type": "code",
   "execution_count": 30,
   "id": "44d2d5d0",
   "metadata": {},
   "outputs": [
    {
     "name": "stdout",
     "output_type": "stream",
     "text": [
      "  Início dos relatórios Término dos relatórios Nome da Campanha  \\\n",
      "0            2024-06-02             2024-06-04      Campanha_14   \n",
      "1            2024-05-27             2024-06-02       Campanha_7   \n",
      "2            2024-05-04             2024-05-14      Campanha_18   \n",
      "3            2024-02-10             2024-02-12      Campanha_12   \n",
      "4            2024-02-21             2024-02-29      Campanha_16   \n",
      "\n",
      "  Nome do Criativo Indicador de resultados  CTR (taxa de cliques no link)  \\\n",
      "0      Criativo_20                 Alcance                          11.72   \n",
      "1      Criativo_38            Engajamentos                           7.48   \n",
      "2      Criativo_18  Visualizações de vídeo                          10.58   \n",
      "3      Criativo_25              Conversões                          11.90   \n",
      "4      Criativo_37              Conversões                          14.71   \n",
      "\n",
      "   CPM (custo por 1.000 impressões) (BRL)  \\\n",
      "0                                   55.51   \n",
      "1                                   25.44   \n",
      "2                                    9.12   \n",
      "3                                   53.08   \n",
      "4                                   25.69   \n",
      "\n",
      "   Reproduções do vídeo por no mínimo 3 segundos  Reproduções de 75% do vídeo  \\\n",
      "0                                          35834                        20000   \n",
      "1                                          18388                        17369   \n",
      "2                                          24627                        10777   \n",
      "3                                          33231                        37891   \n",
      "4                                          40045                         3507   \n",
      "\n",
      "   Custo por resultados  \n",
      "0                 16.31  \n",
      "1                 15.61  \n",
      "2                  1.05  \n",
      "3                  8.59  \n",
      "4                 11.11  \n"
     ]
    }
   ],
   "source": [
    "print(df.head())"
   ]
  },
  {
   "cell_type": "code",
   "execution_count": 31,
   "id": "3e22334b",
   "metadata": {},
   "outputs": [],
   "source": [
    "df = df.drop(columns=[\"Início dos relatórios\", \"Término dos relatórios\", \"Indicador de resultados\"], errors=\"ignore\")"
   ]
  },
  {
   "cell_type": "code",
   "execution_count": 32,
   "id": "8abd1260",
   "metadata": {},
   "outputs": [
    {
     "data": {
      "application/vnd.microsoft.datawrangler.viewer.v0+json": {
       "columns": [
        {
         "name": "index",
         "rawType": "object",
         "type": "string"
        },
        {
         "name": "CTR (taxa de cliques no link)",
         "rawType": "float64",
         "type": "float"
        },
        {
         "name": "CPM (custo por 1.000 impressões) (BRL)",
         "rawType": "float64",
         "type": "float"
        },
        {
         "name": "Reproduções do vídeo por no mínimo 3 segundos",
         "rawType": "float64",
         "type": "float"
        },
        {
         "name": "Reproduções de 75% do vídeo",
         "rawType": "float64",
         "type": "float"
        },
        {
         "name": "Custo por resultados",
         "rawType": "float64",
         "type": "float"
        }
       ],
       "ref": "21027e53-444b-4638-af8d-98dd8a440757",
       "rows": [
        [
         "count",
         "230.0",
         "230.0",
         "230.0",
         "230.0",
         "230.0"
        ],
        [
         "mean",
         "8.108739130434781",
         "31.716260869565218",
         "25209.021739130436",
         "19318.73043478261",
         "12.101000000000003"
        ],
        [
         "std",
         "4.165293247249228",
         "17.399351664921237",
         "13668.88793387634",
         "11174.20590484501",
         "6.997962669833579"
        ],
        [
         "min",
         "0.56",
         "2.53",
         "532.0",
         "319.0",
         "0.48"
        ],
        [
         "25%",
         "4.23",
         "15.135",
         "12982.5",
         "9914.25",
         "6.2425"
        ],
        [
         "50%",
         "8.57",
         "32.68",
         "25645.0",
         "18567.0",
         "11.915"
        ],
        [
         "75%",
         "11.4875",
         "47.66",
         "37122.5",
         "28683.25",
         "17.6975"
        ],
        [
         "max",
         "14.92",
         "59.64",
         "49986.0",
         "39991.0",
         "24.82"
        ]
       ],
       "shape": {
        "columns": 5,
        "rows": 8
       }
      },
      "text/html": [
       "<div>\n",
       "<style scoped>\n",
       "    .dataframe tbody tr th:only-of-type {\n",
       "        vertical-align: middle;\n",
       "    }\n",
       "\n",
       "    .dataframe tbody tr th {\n",
       "        vertical-align: top;\n",
       "    }\n",
       "\n",
       "    .dataframe thead th {\n",
       "        text-align: right;\n",
       "    }\n",
       "</style>\n",
       "<table border=\"1\" class=\"dataframe\">\n",
       "  <thead>\n",
       "    <tr style=\"text-align: right;\">\n",
       "      <th></th>\n",
       "      <th>CTR (taxa de cliques no link)</th>\n",
       "      <th>CPM (custo por 1.000 impressões) (BRL)</th>\n",
       "      <th>Reproduções do vídeo por no mínimo 3 segundos</th>\n",
       "      <th>Reproduções de 75% do vídeo</th>\n",
       "      <th>Custo por resultados</th>\n",
       "    </tr>\n",
       "  </thead>\n",
       "  <tbody>\n",
       "    <tr>\n",
       "      <th>count</th>\n",
       "      <td>230.000000</td>\n",
       "      <td>230.000000</td>\n",
       "      <td>230.000000</td>\n",
       "      <td>230.000000</td>\n",
       "      <td>230.000000</td>\n",
       "    </tr>\n",
       "    <tr>\n",
       "      <th>mean</th>\n",
       "      <td>8.108739</td>\n",
       "      <td>31.716261</td>\n",
       "      <td>25209.021739</td>\n",
       "      <td>19318.730435</td>\n",
       "      <td>12.101000</td>\n",
       "    </tr>\n",
       "    <tr>\n",
       "      <th>std</th>\n",
       "      <td>4.165293</td>\n",
       "      <td>17.399352</td>\n",
       "      <td>13668.887934</td>\n",
       "      <td>11174.205905</td>\n",
       "      <td>6.997963</td>\n",
       "    </tr>\n",
       "    <tr>\n",
       "      <th>min</th>\n",
       "      <td>0.560000</td>\n",
       "      <td>2.530000</td>\n",
       "      <td>532.000000</td>\n",
       "      <td>319.000000</td>\n",
       "      <td>0.480000</td>\n",
       "    </tr>\n",
       "    <tr>\n",
       "      <th>25%</th>\n",
       "      <td>4.230000</td>\n",
       "      <td>15.135000</td>\n",
       "      <td>12982.500000</td>\n",
       "      <td>9914.250000</td>\n",
       "      <td>6.242500</td>\n",
       "    </tr>\n",
       "    <tr>\n",
       "      <th>50%</th>\n",
       "      <td>8.570000</td>\n",
       "      <td>32.680000</td>\n",
       "      <td>25645.000000</td>\n",
       "      <td>18567.000000</td>\n",
       "      <td>11.915000</td>\n",
       "    </tr>\n",
       "    <tr>\n",
       "      <th>75%</th>\n",
       "      <td>11.487500</td>\n",
       "      <td>47.660000</td>\n",
       "      <td>37122.500000</td>\n",
       "      <td>28683.250000</td>\n",
       "      <td>17.697500</td>\n",
       "    </tr>\n",
       "    <tr>\n",
       "      <th>max</th>\n",
       "      <td>14.920000</td>\n",
       "      <td>59.640000</td>\n",
       "      <td>49986.000000</td>\n",
       "      <td>39991.000000</td>\n",
       "      <td>24.820000</td>\n",
       "    </tr>\n",
       "  </tbody>\n",
       "</table>\n",
       "</div>"
      ],
      "text/plain": [
       "       CTR (taxa de cliques no link)  CPM (custo por 1.000 impressões) (BRL)  \\\n",
       "count                     230.000000                              230.000000   \n",
       "mean                        8.108739                               31.716261   \n",
       "std                         4.165293                               17.399352   \n",
       "min                         0.560000                                2.530000   \n",
       "25%                         4.230000                               15.135000   \n",
       "50%                         8.570000                               32.680000   \n",
       "75%                        11.487500                               47.660000   \n",
       "max                        14.920000                               59.640000   \n",
       "\n",
       "       Reproduções do vídeo por no mínimo 3 segundos  \\\n",
       "count                                     230.000000   \n",
       "mean                                    25209.021739   \n",
       "std                                     13668.887934   \n",
       "min                                       532.000000   \n",
       "25%                                     12982.500000   \n",
       "50%                                     25645.000000   \n",
       "75%                                     37122.500000   \n",
       "max                                     49986.000000   \n",
       "\n",
       "       Reproduções de 75% do vídeo  Custo por resultados  \n",
       "count                   230.000000            230.000000  \n",
       "mean                  19318.730435             12.101000  \n",
       "std                   11174.205905              6.997963  \n",
       "min                     319.000000              0.480000  \n",
       "25%                    9914.250000              6.242500  \n",
       "50%                   18567.000000             11.915000  \n",
       "75%                   28683.250000             17.697500  \n",
       "max                   39991.000000             24.820000  "
      ]
     },
     "execution_count": 32,
     "metadata": {},
     "output_type": "execute_result"
    }
   ],
   "source": [
    "df.describe()"
   ]
  },
  {
   "cell_type": "code",
   "execution_count": 33,
   "id": "679a5840",
   "metadata": {},
   "outputs": [],
   "source": [
    "mean_ctr = df['CTR (taxa de cliques no link)'].mean()\n",
    "mean_cpm = df['CPM (custo por 1.000 impressões) (BRL)'].mean()\n",
    "mean_repro_3s = df['Reproduções do vídeo por no mínimo 3 segundos'].mean()\n",
    "mean_retencao_75 = df['Reproduções de 75% do vídeo'].mean()\n",
    "mean_custo_resultado = df['Custo por resultados'].mean()"
   ]
  },
  {
   "cell_type": "code",
   "execution_count": 34,
   "id": "f8ac9a9d",
   "metadata": {},
   "outputs": [],
   "source": [
    "df_copy = df.copy()"
   ]
  },
  {
   "cell_type": "code",
   "execution_count": 35,
   "id": "b68aba52",
   "metadata": {},
   "outputs": [
    {
     "name": "stdout",
     "output_type": "stream",
     "text": [
      "    Nome da Campanha Nome do Criativo  CTR (taxa de cliques no link)  \\\n",
      "0        Campanha_14      Criativo_20                          11.72   \n",
      "1         Campanha_7      Criativo_38                           7.48   \n",
      "2        Campanha_18      Criativo_18                          10.58   \n",
      "3        Campanha_12      Criativo_25                          11.90   \n",
      "4        Campanha_16      Criativo_37                          14.71   \n",
      "..               ...              ...                            ...   \n",
      "225      Campanha_11      Criativo_50                           6.90   \n",
      "226       Campanha_9      Criativo_20                           9.56   \n",
      "227       Campanha_7      Criativo_15                          12.40   \n",
      "228      Campanha_18      Criativo_31                           3.22   \n",
      "229      Campanha_13      Criativo_17                          10.13   \n",
      "\n",
      "     CPM (custo por 1.000 impressões) (BRL)  \\\n",
      "0                                     55.51   \n",
      "1                                     25.44   \n",
      "2                                      9.12   \n",
      "3                                     53.08   \n",
      "4                                     25.69   \n",
      "..                                      ...   \n",
      "225                                   33.67   \n",
      "226                                   55.12   \n",
      "227                                   53.33   \n",
      "228                                   18.58   \n",
      "229                                   35.46   \n",
      "\n",
      "     Reproduções do vídeo por no mínimo 3 segundos  \\\n",
      "0                                            35834   \n",
      "1                                            18388   \n",
      "2                                            24627   \n",
      "3                                            33231   \n",
      "4                                            40045   \n",
      "..                                             ...   \n",
      "225                                          32436   \n",
      "226                                          41572   \n",
      "227                                          39810   \n",
      "228                                          25831   \n",
      "229                                          18221   \n",
      "\n",
      "     Reproduções de 75% do vídeo  Custo por resultados  Score  \n",
      "0                          20000                 16.31      2  \n",
      "1                          17369                 15.61      4  \n",
      "2                          10777                  1.05      2  \n",
      "3                          37891                  8.59      1  \n",
      "4                           3507                 11.11      1  \n",
      "..                           ...                   ...    ...  \n",
      "225                        15267                  3.76      3  \n",
      "226                        18535                  8.07      2  \n",
      "227                        37883                 23.41      2  \n",
      "228                         8130                 19.46      3  \n",
      "229                        18008                  6.92      3  \n",
      "\n",
      "[230 rows x 8 columns]\n"
     ]
    }
   ],
   "source": [
    "metricas = [\n",
    "    ('CTR (taxa de cliques no link)', mean_ctr),\n",
    "    ('CPM (custo por 1.000 impressões) (BRL)', mean_cpm),\n",
    "    ('Custo por resultados', mean_custo_resultado),\n",
    "    ('Reproduções do vídeo por no mínimo 3 segundos', mean_repro_3s),\n",
    "    ('Reproduções de 75% do vídeo', mean_retencao_75)\n",
    "]\n",
    "\n",
    "def conta_metricas_abaixo_media(row):\n",
    "        count = 0\n",
    "        for col, media in metricas:\n",
    "            if col in [\"CPM (custo por 1.000 impressões) (BRL)\", \"Custo por resultados\"]:\n",
    "                if col in row and pd.notnull(row[col]) and row[col] > media:\n",
    "                    count += 1\n",
    "            else:\n",
    "                if col in row and pd.notnull(row[col]) and row[col] < media:\n",
    "                    count += 1\n",
    "        return count\n",
    "\n",
    "df_copy['Score'] = df_copy.apply(conta_metricas_abaixo_media, axis=1)\n",
    "print(df_copy)"
   ]
  },
  {
   "cell_type": "code",
   "execution_count": 36,
   "id": "5dfec545",
   "metadata": {},
   "outputs": [],
   "source": [
    "df_copy.to_csv(r\"ARQUIVO DE SAIDA.csv\", index=False)"
   ]
  }
 ],
 "metadata": {
  "kernelspec": {
   "display_name": "base",
   "language": "python",
   "name": "python3"
  },
  "language_info": {
   "codemirror_mode": {
    "name": "ipython",
    "version": 3
   },
   "file_extension": ".py",
   "mimetype": "text/x-python",
   "name": "python",
   "nbconvert_exporter": "python",
   "pygments_lexer": "ipython3",
   "version": "3.12.7"
  }
 },
 "nbformat": 4,
 "nbformat_minor": 5
}
